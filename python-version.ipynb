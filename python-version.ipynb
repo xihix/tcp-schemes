{
 "cells": [
  {
   "cell_type": "code",
   "execution_count": 1,
   "metadata": {
    "collapsed": false
   },
   "outputs": [
    {
     "ename": "SystemExit",
     "evalue": "0",
     "output_type": "error",
     "traceback": [
      "An exception has occurred, use %tb to see the full traceback.\n",
      "\u001b[0;31mSystemExit\u001b[0m\u001b[0;31m:\u001b[0m 0\n"
     ]
    },
    {
     "name": "stderr",
     "output_type": "stream",
     "text": [
      "To exit: use 'exit', 'quit', or Ctrl-D.\n"
     ]
    }
   ],
   "source": [
    "import sys\n",
    "sys.path.append(\"/usr/local/Cellar/pyqt/4.11.4/lib/python2.7/site-packages\")\n",
    "\n",
    "from PyQt4.QtWebKit import QWebView\n",
    "from PyQt4.QtGui import QApplication\n",
    "from PyQt4.QtCore import QUrl, QCoreApplication\n",
    "from PyQt4.QtGui import QGridLayout, QLineEdit, QWidget, QPushButton\n",
    "\n",
    "class UrlInput(QLineEdit):\n",
    "    def __init__(self, browser):\n",
    "        super(UrlInput, self).__init__()\n",
    "        self.browser = browser\n",
    "        # add event listener on \"enter\" pressed\n",
    "        self.returnPressed.connect(self._return_pressed)\n",
    "\n",
    "    def _return_pressed(self):\n",
    "        text = self.text()\n",
    "        if text[:5] is not \"http:\":\n",
    "            text += \"http://\" + text \n",
    "        url = QUrl(text)\n",
    "        # load url into browser frame\n",
    "        self.browser.load(url)\n",
    "\n",
    "if __name__ == \"__main__\":\n",
    "    PROTOCOL = \"http://\"\n",
    "    def parse(name):\n",
    "        return PROTOCOL+\"localhost:63342/Prj-4/\"+name+'.html'\n",
    "    app = QApplication(sys.argv)\n",
    "    grid = QGridLayout()\n",
    "    br = QWebView()\n",
    "    url_input = UrlInput(br)\n",
    "    \n",
    "    def gbnsr():\n",
    "        url = QUrl(parse('gbn-sr'))\n",
    "        br.load(url)\n",
    "    \n",
    "    def fc():\n",
    "        url = QUrl(parse('flow-ctrl'))\n",
    "        br.load(url)\n",
    "    \n",
    "    # create grid layout\n",
    "    # url_input at row 1 column 0 of our grid\n",
    "    # grid.addWidget(url_input, 1, 0)\n",
    "    # browser frame at row 2 column 0 of our grid\n",
    "    title = QPushButton(\"Animation of retransmission schemes and flow-control schemes\")\n",
    "    title.setEnabled(False)\n",
    "    grid.addWidget(title, 1, 0)\n",
    "    grid.addWidget(br, 2, 0)\n",
    "    \n",
    "    qbtn = QPushButton('Quit', br)\n",
    "    qbtn.clicked.connect(QCoreApplication.instance().quit)\n",
    "    gbn_btn = QPushButton('Retransmission')\n",
    "    gbn_btn.clicked.connect(gbnsr)\n",
    "    fc_btn = QPushButton('Flow control')\n",
    "    fc_btn.clicked.connect(fc)\n",
    "    grid.addWidget(gbn_btn, 3, 0)\n",
    "    grid.addWidget(fc_btn, 4, 0)\n",
    "\n",
    "\n",
    "    # main app window\n",
    "    main_frame = QWidget() \n",
    "    main_frame.setLayout(grid)\n",
    "    main_frame.show()\n",
    "\n",
    "    # close app when user closes window\n",
    "    sys.exit(app.exec_())\n",
    "\n"
   ]
  },
  {
   "cell_type": "code",
   "execution_count": null,
   "metadata": {
    "collapsed": true
   },
   "outputs": [],
   "source": []
  }
 ],
 "metadata": {
  "kernelspec": {
   "display_name": "Python 2",
   "language": "python",
   "name": "python2"
  },
  "language_info": {
   "codemirror_mode": {
    "name": "ipython",
    "version": 2
   },
   "file_extension": ".py",
   "mimetype": "text/x-python",
   "name": "python",
   "nbconvert_exporter": "python",
   "pygments_lexer": "ipython2",
   "version": "2.7.10"
  }
 },
 "nbformat": 4,
 "nbformat_minor": 0
}
